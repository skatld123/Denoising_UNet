{
 "cells": [
  {
   "cell_type": "code",
   "execution_count": 125,
   "metadata": {},
   "outputs": [],
   "source": [
    "from IQA_pytorch import SSIM, utils\n",
    "from PIL import Image\n",
    "import torch\n",
    "import os\n",
    "import numpy as np\n",
    "from skimage import io\n",
    "from skimage.metrics import peak_signal_noise_ratio, structural_similarity\n"
   ]
  },
  {
   "cell_type": "code",
   "execution_count": 126,
   "metadata": {},
   "outputs": [],
   "source": [
    "png_dir = '/root/autoEncoder/result/png/'\n",
    "npy_dir = '/root/autoEncoder/result/numpy/'\n",
    "device = torch.device('cuda' if torch.cuda.is_available() else 'cpu')\n"
   ]
  },
  {
   "cell_type": "code",
   "execution_count": 127,
   "metadata": {},
   "outputs": [],
   "source": [
    "lst_data = os.listdir(png_dir)\n",
    "\n",
    "lst_label = [f for f in lst_data if f.startswith('label')]\n",
    "lst_input = [f for f in lst_data if f.startswith('input')]\n",
    "lst_output = [f for f in lst_data if f.startswith('output')]\n",
    "\n",
    "lst_label.sort()\n",
    "lst_input.sort()\n",
    "lst_output.sort()\n"
   ]
  },
  {
   "cell_type": "code",
   "execution_count": 128,
   "metadata": {},
   "outputs": [
    {
     "name": "stdout",
     "output_type": "stream",
     "text": [
      "/root/autoEncoder/result/png/label_0000.png >><< /root/autoEncoder/result/png/output_0000.png\n",
      "0.753\n",
      "/root/autoEncoder/result/png/label_0001.png >><< /root/autoEncoder/result/png/output_0001.png\n",
      "0.912\n",
      "/root/autoEncoder/result/png/label_0002.png >><< /root/autoEncoder/result/png/output_0002.png\n",
      "0.82\n",
      "/root/autoEncoder/result/png/label_0003.png >><< /root/autoEncoder/result/png/output_0003.png\n",
      "0.801\n",
      "/root/autoEncoder/result/png/label_0010.png >><< /root/autoEncoder/result/png/output_0010.png\n",
      "0.776\n",
      "/root/autoEncoder/result/png/label_0011.png >><< /root/autoEncoder/result/png/output_0011.png\n",
      "0.807\n",
      "/root/autoEncoder/result/png/label_0012.png >><< /root/autoEncoder/result/png/output_0012.png\n",
      "0.719\n",
      "/root/autoEncoder/result/png/label_0013.png >><< /root/autoEncoder/result/png/output_0013.png\n",
      "0.602\n",
      "/root/autoEncoder/result/png/label_0020.png >><< /root/autoEncoder/result/png/output_0020.png\n",
      "0.706\n",
      "/root/autoEncoder/result/png/label_0021.png >><< /root/autoEncoder/result/png/output_0021.png\n",
      "0.852\n",
      "/root/autoEncoder/result/png/label_0022.png >><< /root/autoEncoder/result/png/output_0022.png\n",
      "0.766\n",
      "/root/autoEncoder/result/png/label_0023.png >><< /root/autoEncoder/result/png/output_0023.png\n",
      "0.78\n",
      "/root/autoEncoder/result/png/label_0030.png >><< /root/autoEncoder/result/png/output_0030.png\n",
      "0.665\n",
      "/root/autoEncoder/result/png/label_0031.png >><< /root/autoEncoder/result/png/output_0031.png\n",
      "0.848\n",
      "/root/autoEncoder/result/png/label_0032.png >><< /root/autoEncoder/result/png/output_0032.png\n",
      "0.825\n",
      "/root/autoEncoder/result/png/label_0033.png >><< /root/autoEncoder/result/png/output_0033.png\n",
      "0.807\n",
      "/root/autoEncoder/result/png/label_0040.png >><< /root/autoEncoder/result/png/output_0040.png\n",
      "0.866\n",
      "/root/autoEncoder/result/png/label_0041.png >><< /root/autoEncoder/result/png/output_0041.png\n",
      "0.806\n",
      "/root/autoEncoder/result/png/label_0042.png >><< /root/autoEncoder/result/png/output_0042.png\n",
      "0.784\n",
      "/root/autoEncoder/result/png/label_0043.png >><< /root/autoEncoder/result/png/output_0043.png\n",
      "0.749\n",
      "/root/autoEncoder/result/png/label_0050.png >><< /root/autoEncoder/result/png/output_0050.png\n",
      "0.826\n",
      "/root/autoEncoder/result/png/label_0051.png >><< /root/autoEncoder/result/png/output_0051.png\n",
      "0.702\n",
      "/root/autoEncoder/result/png/label_0052.png >><< /root/autoEncoder/result/png/output_0052.png\n",
      "0.837\n",
      "/root/autoEncoder/result/png/label_0053.png >><< /root/autoEncoder/result/png/output_0053.png\n",
      "0.801\n",
      "/root/autoEncoder/result/png/label_0060.png >><< /root/autoEncoder/result/png/output_0060.png\n",
      "0.843\n",
      "/root/autoEncoder/result/png/label_0061.png >><< /root/autoEncoder/result/png/output_0061.png\n",
      "0.668\n",
      "/root/autoEncoder/result/png/label_0062.png >><< /root/autoEncoder/result/png/output_0062.png\n",
      "0.668\n",
      "/root/autoEncoder/result/png/label_0063.png >><< /root/autoEncoder/result/png/output_0063.png\n",
      "0.864\n",
      "/root/autoEncoder/result/png/label_0070.png >><< /root/autoEncoder/result/png/output_0070.png\n",
      "0.743\n",
      "/root/autoEncoder/result/png/label_0071.png >><< /root/autoEncoder/result/png/output_0071.png\n",
      "0.861\n",
      "/root/autoEncoder/result/png/label_0072.png >><< /root/autoEncoder/result/png/output_0072.png\n",
      "0.879\n",
      "/root/autoEncoder/result/png/label_0073.png >><< /root/autoEncoder/result/png/output_0073.png\n",
      "0.603\n",
      "/root/autoEncoder/result/png/label_0080.png >><< /root/autoEncoder/result/png/output_0080.png\n",
      "0.813\n",
      "/root/autoEncoder/result/png/label_0081.png >><< /root/autoEncoder/result/png/output_0081.png\n",
      "0.726\n",
      "/root/autoEncoder/result/png/label_0082.png >><< /root/autoEncoder/result/png/output_0082.png\n",
      "0.816\n",
      "/root/autoEncoder/result/png/label_0083.png >><< /root/autoEncoder/result/png/output_0083.png\n",
      "0.843\n",
      "/root/autoEncoder/result/png/label_0090.png >><< /root/autoEncoder/result/png/output_0090.png\n",
      "0.854\n",
      "/root/autoEncoder/result/png/label_0091.png >><< /root/autoEncoder/result/png/output_0091.png\n",
      "0.73\n",
      "/root/autoEncoder/result/png/label_0092.png >><< /root/autoEncoder/result/png/output_0092.png\n",
      "0.789\n",
      "/root/autoEncoder/result/png/label_0093.png >><< /root/autoEncoder/result/png/output_0093.png\n",
      "0.727\n"
     ]
    }
   ],
   "source": [
    "ssim = []\n",
    "\n",
    "for i, label in enumerate(lst_label):\n",
    "    label_path = png_dir + lst_label[i]\n",
    "    output_path = png_dir + lst_output[i]\n",
    "\n",
    "    label = io.imread(label_path)\n",
    "    output = io.imread(output_path)\n",
    "    # print(label.shape)\n",
    "    # print(output.shape)\n",
    "    ssim_score = round(structural_similarity(\n",
    "        label, output, channel_axis=2), 3)\n",
    "\n",
    "    print(label_path + \" >><< \" + output_path)\n",
    "    print(ssim_score)\n",
    "    # ssim.append(ssim_score)\n",
    "    ssim.append(ssim_score.item())\n",
    "    # print(type(ssim_score.item()))\n",
    "    # print('score: %.4f' % ssim_score.item())\n"
   ]
  },
  {
   "cell_type": "code",
   "execution_count": 129,
   "metadata": {},
   "outputs": [],
   "source": [
    "# ssim = []\n",
    "\n",
    "# for i, label in enumerate(lst_label):\n",
    "#     label_path = png_dir + lst_label[i]\n",
    "#     output_path = png_dir + lst_input[i]\n",
    "\n",
    "#     label = utils.prepare_image(Image.open(label_path).convert(\"RGB\")).to(device)\n",
    "#     output = utils.prepare_image(Image.open(output_path).convert(\"RGB\")).to(device)\n",
    "\n",
    "#     model = SSIM(channels=3)\n",
    "\n",
    "#     score = model(output, label, as_loss=False)\n",
    "#     print(score)\n",
    "#     ssim.extend(score.cpu().detach())\n",
    "#     print('score: %.4f' % score.item())\n"
   ]
  },
  {
   "cell_type": "code",
   "execution_count": 130,
   "metadata": {},
   "outputs": [
    {
     "name": "stdout",
     "output_type": "stream",
     "text": [
      "40\n",
      "The mean of the SSIM is 0.7809250000000001 and the standard deviation of the SSIM is 0.07314656092394228\n"
     ]
    }
   ],
   "source": [
    "ssim = ssim.copy()\n",
    "print(len(ssim))\n",
    "ssim = np.array(ssim)\n",
    "print(\n",
    "    f\"The mean of the SSIM is {ssim.mean()} and the standard deviation of the SSIM is {ssim.std()}\")\n"
   ]
  }
 ],
 "metadata": {
  "kernelspec": {
   "display_name": "Python 3.8.13 ('base')",
   "language": "python",
   "name": "python3"
  },
  "language_info": {
   "codemirror_mode": {
    "name": "ipython",
    "version": 3
   },
   "file_extension": ".py",
   "mimetype": "text/x-python",
   "name": "python",
   "nbconvert_exporter": "python",
   "pygments_lexer": "ipython3",
   "version": "3.8.13 | packaged by conda-forge | (default, Mar 25 2022, 06:04:10) \n[GCC 10.3.0]"
  },
  "orig_nbformat": 4,
  "vscode": {
   "interpreter": {
    "hash": "d4d1e4263499bec80672ea0156c357c1ee493ec2b1c70f0acce89fc37c4a6abe"
   }
  }
 },
 "nbformat": 4,
 "nbformat_minor": 2
}
